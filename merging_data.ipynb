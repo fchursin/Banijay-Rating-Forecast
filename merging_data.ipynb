{
 "cells": [
  {
   "cell_type": "code",
   "execution_count": 1,
   "metadata": {
    "pycharm": {
     "name": "#%%\n"
    }
   },
   "outputs": [],
   "source": [
    "import pandas as pd\n",
    "from tqdm import tqdm"
   ]
  },
  {
   "cell_type": "code",
   "execution_count": null,
   "outputs": [],
   "source": [],
   "metadata": {
    "collapsed": false,
    "pycharm": {
     "name": "#%%\n"
    }
   }
  },
  {
   "cell_type": "markdown",
   "metadata": {
    "pycharm": {
     "name": "#%% md\n"
    }
   },
   "source": [
    "## 1st Step: Import DataFrames"
   ]
  },
  {
   "cell_type": "code",
   "execution_count": 2,
   "metadata": {
    "pycharm": {
     "name": "#%%\n"
    }
   },
   "outputs": [
    {
     "name": "stderr",
     "output_type": "stream",
     "text": [
      "/var/folders/7x/pkl50ghj76g8t2s0y2s5bcrw0000gn/T/ipykernel_69718/2904429814.py:3: DtypeWarning: Columns (17) have mixed types. Specify dtype option on import or set low_memory=False.\n",
      "  df_ratings = pd.read_csv('data/banijay_op1data_ratings_raw.csv', compression = 'zip')\n"
     ]
    }
   ],
   "source": [
    "df_content = pd.read_csv('data/banijay_op1data_content_processed.csv')\n",
    "\n",
    "df_ratings = pd.read_csv('data/banijay_op1data_ratings_raw.csv', compression = 'zip')\n"
   ]
  },
  {
   "cell_type": "markdown",
   "metadata": {
    "pycharm": {
     "name": "#%% md\n"
    }
   },
   "source": [
    "## 2nd Step: Add date_time columns"
   ]
  },
  {
   "cell_type": "code",
   "execution_count": 3,
   "metadata": {
    "pycharm": {
     "name": "#%%\n"
    }
   },
   "outputs": [],
   "source": [
    "df_content['content_id'] = df_content['id'].apply(lambda x: str(x)[14:28])\n",
    "\n",
    "df_content['date_time_start_string'] = df_content['date'].apply(lambda x: str(x)[6:10]) + '-' +  df_content['date'].apply(lambda x: str(x)[3:6]) +  df_content['date'].apply(lambda x: str(x)[0:2]) + ' ' + df_content['start'].apply(lambda x: str(x)[0:6] +'00')\n",
    "\n",
    "df_content['date_time_end_string'] = df_content['date'].apply(lambda x: str(x)[6:10]) + '-' +  df_content['date'].apply(lambda x: str(x)[3:6]) +  df_content['date'].apply(lambda x: str(x)[0:2]) + ' ' + df_content['end'].apply(lambda x: str(x)[0:6] +'00')\n",
    "\n",
    "\n",
    "df_ratings['date_time_string'] = df_ratings['Datum'] + ' ' + df_ratings['Time']"
   ]
  },
  {
   "cell_type": "code",
   "execution_count": 4,
   "metadata": {
    "pycharm": {
     "name": "#%%\n"
    }
   },
   "outputs": [],
   "source": [
    "df_content['date_time_start'] = df_content['date_time_start_string'].apply(lambda x: pd.to_datetime(x, format = '%Y-%m-%d %H:%M:%S'))\n",
    "\n",
    "df_content['date_time_end'] = df_content['date_time_end_string'].apply(lambda x: pd.to_datetime(x, format = '%Y-%m-%d %H:%M:%S'))"
   ]
  },
  {
   "cell_type": "code",
   "execution_count": 5,
   "metadata": {
    "pycharm": {
     "name": "#%%\n"
    }
   },
   "outputs": [],
   "source": [
    "df_ratings['date_time'] = df_ratings['date_time_string'].apply(lambda x: pd.to_datetime(x, format = '%Y-%m-%d %H:%M:%S'))"
   ]
  },
  {
   "cell_type": "markdown",
   "metadata": {
    "pycharm": {
     "name": "#%% md\n"
    }
   },
   "source": [
    "## 3rd Step: Check if the date_time is between the start and the end of the show"
   ]
  },
  {
   "cell_type": "code",
   "execution_count": 6,
   "metadata": {
    "pycharm": {
     "name": "#%%\n"
    }
   },
   "outputs": [
    {
     "name": "stderr",
     "output_type": "stream",
     "text": [
      "100%|██████████| 1304190/1304190 [05:10<00:00, 4203.59it/s]\n"
     ]
    }
   ],
   "source": [
    "import numpy as np\n",
    "\n",
    "def get_content_id(time):\n",
    "   return df_content.loc[(df_content['date_time_start'] <= time) & (df_content['date_time_end'] >= time),'content_id']\n",
    "\n",
    "\n",
    "df_ratings['content_id'] = [get_content_id(x) for x in tqdm(df_ratings['date_time'])]\n",
    "\n",
    "df_ratings['content_id'] = df_ratings['content_id'].apply(lambda x: x.values)"
   ]
  },
  {
   "cell_type": "markdown",
   "metadata": {
    "pycharm": {
     "name": "#%% md\n"
    }
   },
   "source": [
    "## 4th Step: Clean and merge final data"
   ]
  },
  {
   "cell_type": "code",
   "execution_count": 10,
   "metadata": {
    "pycharm": {
     "name": "#%%\n"
    }
   },
   "outputs": [
    {
     "data": {
      "text/plain": "     Unnamed: 0.3  Unnamed: 0.2  Unnamed: 0.1  Unnamed: 0       Datum  \\\n0               0             0             0           0  2020-01-06   \n1               1             1             1           1  2020-01-06   \n2               2             2             2           2  2020-01-06   \n3               3             3             3           3  2020-01-06   \n4               4             4             4           4  2020-01-06   \n..            ...           ...           ...         ...         ...   \n995           995           995           995         995  2020-01-06   \n996           996           996           996         996  2020-01-06   \n997           997           997           997         997  2020-01-06   \n998           998           998           998         998  2020-01-06   \n999           999           999           999         999  2020-01-06   \n\n         Time Program Station        Target Group  \\\n0    22:18:00     op1    npo1            tot6plus   \n1    22:18:00     op1    npo1            tot6plus   \n2    22:18:00     op1    npo1            tot6plus   \n3    22:18:00     op1    npo1  boodschapper_20_49   \n4    22:18:00     op1    npo1  boodschapper_20_49   \n..        ...     ...     ...                 ...   \n995  22:51:00     op1    npo1  boodschapper_20_49   \n996  22:51:00     op1    npo1  boodschapper_25_54   \n997  22:51:00     op1    npo1  boodschapper_25_54   \n998  22:51:00     op1    npo1  boodschapper_25_54   \n999  22:51:00     op1    npo1             6_12_jr   \n\n                    Broadcast Type Ratings Type       Kdh%       Kdh000  \\\n0    live/prerecorded uitzendingen   uitzenddag   9.676969  1546.863437   \n1    live/prerecorded uitzendingen   uitgesteld   1.484044   237.224411   \n2    live/prerecorded uitzendingen       totaal  10.299407  1646.360210   \n3    live/prerecorded uitzendingen   uitzenddag   3.217735   117.833443   \n4    live/prerecorded uitzendingen   uitgesteld   1.146627    41.989484   \n..                             ...          ...        ...          ...   \n995  live/prerecorded uitzendingen       totaal   2.736553   100.212577   \n996  live/prerecorded uitzendingen   uitzenddag   3.366896   134.877851   \n997  live/prerecorded uitzendingen   uitgesteld   1.157118    46.354140   \n998  live/prerecorded uitzendingen       totaal   3.489813   139.801896   \n999  live/prerecorded uitzendingen   uitzenddag   0.329504     4.339563   \n\n         Zadl%           date_time     year        date_time_str content_id  \\\n0    30.881672 2020-01-06 22:18:00  2020-01  2020-01-06 22:18:00        NaN   \n1    24.692727 2020-01-06 22:18:00  2020-01  2020-01-06 22:18:00        NaN   \n2    29.962268 2020-01-06 22:18:00  2020-01  2020-01-06 22:18:00        NaN   \n3    14.746563 2020-01-06 22:18:00  2020-01  2020-01-06 22:18:00        NaN   \n4    17.021271 2020-01-06 22:18:00  2020-01  2020-01-06 22:18:00        NaN   \n..         ...                 ...      ...                  ...        ...   \n995  15.821852 2020-01-06 22:51:00  2020-01  2020-01-06 22:51:00        NaN   \n996  16.564046 2020-01-06 22:51:00  2020-01  2020-01-06 22:51:00        NaN   \n997  29.135196 2020-01-06 22:51:00  2020-01  2020-01-06 22:51:00        NaN   \n998  16.178732 2020-01-06 22:51:00  2020-01  2020-01-06 22:51:00        NaN   \n999  43.583669 2020-01-06 22:51:00  2020-01  2020-01-06 22:51:00        NaN   \n\n        date_time_string  \n0    2020-01-06 22:18:00  \n1    2020-01-06 22:18:00  \n2    2020-01-06 22:18:00  \n3    2020-01-06 22:18:00  \n4    2020-01-06 22:18:00  \n..                   ...  \n995  2020-01-06 22:51:00  \n996  2020-01-06 22:51:00  \n997  2020-01-06 22:51:00  \n998  2020-01-06 22:51:00  \n999  2020-01-06 22:51:00  \n\n[1000 rows x 19 columns]",
      "text/html": "<div>\n<style scoped>\n    .dataframe tbody tr th:only-of-type {\n        vertical-align: middle;\n    }\n\n    .dataframe tbody tr th {\n        vertical-align: top;\n    }\n\n    .dataframe thead th {\n        text-align: right;\n    }\n</style>\n<table border=\"1\" class=\"dataframe\">\n  <thead>\n    <tr style=\"text-align: right;\">\n      <th></th>\n      <th>Unnamed: 0.3</th>\n      <th>Unnamed: 0.2</th>\n      <th>Unnamed: 0.1</th>\n      <th>Unnamed: 0</th>\n      <th>Datum</th>\n      <th>Time</th>\n      <th>Program</th>\n      <th>Station</th>\n      <th>Target Group</th>\n      <th>Broadcast Type</th>\n      <th>Ratings Type</th>\n      <th>Kdh%</th>\n      <th>Kdh000</th>\n      <th>Zadl%</th>\n      <th>date_time</th>\n      <th>year</th>\n      <th>date_time_str</th>\n      <th>content_id</th>\n      <th>date_time_string</th>\n    </tr>\n  </thead>\n  <tbody>\n    <tr>\n      <th>0</th>\n      <td>0</td>\n      <td>0</td>\n      <td>0</td>\n      <td>0</td>\n      <td>2020-01-06</td>\n      <td>22:18:00</td>\n      <td>op1</td>\n      <td>npo1</td>\n      <td>tot6plus</td>\n      <td>live/prerecorded uitzendingen</td>\n      <td>uitzenddag</td>\n      <td>9.676969</td>\n      <td>1546.863437</td>\n      <td>30.881672</td>\n      <td>2020-01-06 22:18:00</td>\n      <td>2020-01</td>\n      <td>2020-01-06 22:18:00</td>\n      <td>NaN</td>\n      <td>2020-01-06 22:18:00</td>\n    </tr>\n    <tr>\n      <th>1</th>\n      <td>1</td>\n      <td>1</td>\n      <td>1</td>\n      <td>1</td>\n      <td>2020-01-06</td>\n      <td>22:18:00</td>\n      <td>op1</td>\n      <td>npo1</td>\n      <td>tot6plus</td>\n      <td>live/prerecorded uitzendingen</td>\n      <td>uitgesteld</td>\n      <td>1.484044</td>\n      <td>237.224411</td>\n      <td>24.692727</td>\n      <td>2020-01-06 22:18:00</td>\n      <td>2020-01</td>\n      <td>2020-01-06 22:18:00</td>\n      <td>NaN</td>\n      <td>2020-01-06 22:18:00</td>\n    </tr>\n    <tr>\n      <th>2</th>\n      <td>2</td>\n      <td>2</td>\n      <td>2</td>\n      <td>2</td>\n      <td>2020-01-06</td>\n      <td>22:18:00</td>\n      <td>op1</td>\n      <td>npo1</td>\n      <td>tot6plus</td>\n      <td>live/prerecorded uitzendingen</td>\n      <td>totaal</td>\n      <td>10.299407</td>\n      <td>1646.360210</td>\n      <td>29.962268</td>\n      <td>2020-01-06 22:18:00</td>\n      <td>2020-01</td>\n      <td>2020-01-06 22:18:00</td>\n      <td>NaN</td>\n      <td>2020-01-06 22:18:00</td>\n    </tr>\n    <tr>\n      <th>3</th>\n      <td>3</td>\n      <td>3</td>\n      <td>3</td>\n      <td>3</td>\n      <td>2020-01-06</td>\n      <td>22:18:00</td>\n      <td>op1</td>\n      <td>npo1</td>\n      <td>boodschapper_20_49</td>\n      <td>live/prerecorded uitzendingen</td>\n      <td>uitzenddag</td>\n      <td>3.217735</td>\n      <td>117.833443</td>\n      <td>14.746563</td>\n      <td>2020-01-06 22:18:00</td>\n      <td>2020-01</td>\n      <td>2020-01-06 22:18:00</td>\n      <td>NaN</td>\n      <td>2020-01-06 22:18:00</td>\n    </tr>\n    <tr>\n      <th>4</th>\n      <td>4</td>\n      <td>4</td>\n      <td>4</td>\n      <td>4</td>\n      <td>2020-01-06</td>\n      <td>22:18:00</td>\n      <td>op1</td>\n      <td>npo1</td>\n      <td>boodschapper_20_49</td>\n      <td>live/prerecorded uitzendingen</td>\n      <td>uitgesteld</td>\n      <td>1.146627</td>\n      <td>41.989484</td>\n      <td>17.021271</td>\n      <td>2020-01-06 22:18:00</td>\n      <td>2020-01</td>\n      <td>2020-01-06 22:18:00</td>\n      <td>NaN</td>\n      <td>2020-01-06 22:18:00</td>\n    </tr>\n    <tr>\n      <th>...</th>\n      <td>...</td>\n      <td>...</td>\n      <td>...</td>\n      <td>...</td>\n      <td>...</td>\n      <td>...</td>\n      <td>...</td>\n      <td>...</td>\n      <td>...</td>\n      <td>...</td>\n      <td>...</td>\n      <td>...</td>\n      <td>...</td>\n      <td>...</td>\n      <td>...</td>\n      <td>...</td>\n      <td>...</td>\n      <td>...</td>\n      <td>...</td>\n    </tr>\n    <tr>\n      <th>995</th>\n      <td>995</td>\n      <td>995</td>\n      <td>995</td>\n      <td>995</td>\n      <td>2020-01-06</td>\n      <td>22:51:00</td>\n      <td>op1</td>\n      <td>npo1</td>\n      <td>boodschapper_20_49</td>\n      <td>live/prerecorded uitzendingen</td>\n      <td>totaal</td>\n      <td>2.736553</td>\n      <td>100.212577</td>\n      <td>15.821852</td>\n      <td>2020-01-06 22:51:00</td>\n      <td>2020-01</td>\n      <td>2020-01-06 22:51:00</td>\n      <td>NaN</td>\n      <td>2020-01-06 22:51:00</td>\n    </tr>\n    <tr>\n      <th>996</th>\n      <td>996</td>\n      <td>996</td>\n      <td>996</td>\n      <td>996</td>\n      <td>2020-01-06</td>\n      <td>22:51:00</td>\n      <td>op1</td>\n      <td>npo1</td>\n      <td>boodschapper_25_54</td>\n      <td>live/prerecorded uitzendingen</td>\n      <td>uitzenddag</td>\n      <td>3.366896</td>\n      <td>134.877851</td>\n      <td>16.564046</td>\n      <td>2020-01-06 22:51:00</td>\n      <td>2020-01</td>\n      <td>2020-01-06 22:51:00</td>\n      <td>NaN</td>\n      <td>2020-01-06 22:51:00</td>\n    </tr>\n    <tr>\n      <th>997</th>\n      <td>997</td>\n      <td>997</td>\n      <td>997</td>\n      <td>997</td>\n      <td>2020-01-06</td>\n      <td>22:51:00</td>\n      <td>op1</td>\n      <td>npo1</td>\n      <td>boodschapper_25_54</td>\n      <td>live/prerecorded uitzendingen</td>\n      <td>uitgesteld</td>\n      <td>1.157118</td>\n      <td>46.354140</td>\n      <td>29.135196</td>\n      <td>2020-01-06 22:51:00</td>\n      <td>2020-01</td>\n      <td>2020-01-06 22:51:00</td>\n      <td>NaN</td>\n      <td>2020-01-06 22:51:00</td>\n    </tr>\n    <tr>\n      <th>998</th>\n      <td>998</td>\n      <td>998</td>\n      <td>998</td>\n      <td>998</td>\n      <td>2020-01-06</td>\n      <td>22:51:00</td>\n      <td>op1</td>\n      <td>npo1</td>\n      <td>boodschapper_25_54</td>\n      <td>live/prerecorded uitzendingen</td>\n      <td>totaal</td>\n      <td>3.489813</td>\n      <td>139.801896</td>\n      <td>16.178732</td>\n      <td>2020-01-06 22:51:00</td>\n      <td>2020-01</td>\n      <td>2020-01-06 22:51:00</td>\n      <td>NaN</td>\n      <td>2020-01-06 22:51:00</td>\n    </tr>\n    <tr>\n      <th>999</th>\n      <td>999</td>\n      <td>999</td>\n      <td>999</td>\n      <td>999</td>\n      <td>2020-01-06</td>\n      <td>22:51:00</td>\n      <td>op1</td>\n      <td>npo1</td>\n      <td>6_12_jr</td>\n      <td>live/prerecorded uitzendingen</td>\n      <td>uitzenddag</td>\n      <td>0.329504</td>\n      <td>4.339563</td>\n      <td>43.583669</td>\n      <td>2020-01-06 22:51:00</td>\n      <td>2020-01</td>\n      <td>2020-01-06 22:51:00</td>\n      <td>NaN</td>\n      <td>2020-01-06 22:51:00</td>\n    </tr>\n  </tbody>\n</table>\n<p>1000 rows × 19 columns</p>\n</div>"
     },
     "execution_count": 10,
     "metadata": {},
     "output_type": "execute_result"
    }
   ],
   "source": [
    "\n",
    "def drop_missing_values(x):\n",
    "   if len(x) > 0:\n",
    "      return x[0]\n",
    "   else:\n",
    "      return np.nan\n",
    "\n",
    "df_ratings['content_id'] = df_ratings['content_id'].apply(lambda x: drop_missing_values(x))\n",
    "\n",
    "df_ratings = df_ratings.drop(['Unnamed: 0.3','Unnamed: 0.2','Unnamed: 0.1','Unnamed: 0'],axis=1)\n",
    "\n",
    "df_ratings.head(1000)"
   ]
  },
  {
   "cell_type": "code",
   "execution_count": 17,
   "metadata": {
    "pycharm": {
     "name": "#%%\n"
    }
   },
   "outputs": [],
   "source": [
    "df_merged_2 = df_content.merge(df_ratings,on='content_id',how='left')\n",
    "\n",
    "df_merged_2.to_csv('data/banijay_op1data_content_ratings.csv' , compression='zip')"
   ]
  }
 ],
 "metadata": {
  "interpreter": {
   "hash": "d6d3bead522943a9c468e61e6838d81388ff1b0be9a8cc5d767fd691621bda18"
  },
  "kernelspec": {
   "display_name": "Python 3.9.12 ('base')",
   "language": "python",
   "name": "python3"
  },
  "language_info": {
   "codemirror_mode": {
    "name": "ipython",
    "version": 3
   },
   "file_extension": ".py",
   "mimetype": "text/x-python",
   "name": "python",
   "nbconvert_exporter": "python",
   "pygments_lexer": "ipython3",
   "version": "3.9.12"
  },
  "orig_nbformat": 4
 },
 "nbformat": 4,
 "nbformat_minor": 2
}